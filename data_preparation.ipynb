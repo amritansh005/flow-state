{
 "cells": [
  {
   "cell_type": "code",
   "execution_count": null,
   "metadata": {},
   "outputs": [
    {
     "name": "stdout",
     "output_type": "stream",
     "text": [
      "CSV file 'conversation_states_template.csv' created with the specified headers.\n"
     ]
    }
   ],
   "source": [
    "import csv\n",
    "\n",
    "# Define the filename\n",
    "filename = \"conversation_states_template.csv\"\n",
    "\n",
    "# Define the column headers\n",
    "headers = [\n",
    "    \"Org_id\",\n",
    "    \"use_case_name\",\n",
    "    \"GREETING\",\n",
    "    \"NEEDS_ASSESSMENT\",\n",
    "    \"INFO_PROVISION\",\n",
    "    \"TRANSACTION\",\n",
    "    \"SUPPORT\",\n",
    "    \"FEEDBACK\",\n",
    "    \"ACCOUNT_MANAGEMENT\",\n",
    "    \"CLOSING\",\n",
    "    \"ERROR_HANDLING\",\n",
    "    \"COMMON_STATES\",\n",
    "    \"CUSTOM_FUNCTION\"\n",
    "]\n",
    "\n",
    "# Create the CSV file and write the headers\n",
    "with open(filename, mode=\"w\", newline=\"\", encoding=\"utf-8\") as file:\n",
    "    writer = csv.writer(file)\n",
    "    writer.writerow(headers)\n",
    "\n",
    "print(f\"CSV file '{filename}' created with the specified headers.\")"
   ]
  },
  {
   "cell_type": "code",
   "execution_count": null,
   "metadata": {},
   "outputs": [],
   "source": []
  }
 ],
 "metadata": {
  "kernelspec": {
   "display_name": "Python 3",
   "language": "python",
   "name": "python3"
  },
  "language_info": {
   "codemirror_mode": {
    "name": "ipython",
    "version": 3
   },
   "file_extension": ".py",
   "mimetype": "text/x-python",
   "name": "python",
   "nbconvert_exporter": "python",
   "pygments_lexer": "ipython3",
   "version": "3.9.0"
  }
 },
 "nbformat": 4,
 "nbformat_minor": 2
}
